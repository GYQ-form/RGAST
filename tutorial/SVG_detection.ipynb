{
 "cells": [
  {
   "attachments": {},
   "cell_type": "markdown",
   "metadata": {},
   "source": [
    "# Tutorial: Spatially Variable Gene detection on SeqFISH+ (Mouse cortex)"
   ]
  },
  {
   "attachments": {},
   "cell_type": "markdown",
   "metadata": {},
   "source": [
    "This tutorial demonstrates how to use RGAST to detect SVG on a SeqFISH+ data."
   ]
  },
  {
   "attachments": {},
   "cell_type": "markdown",
   "metadata": {},
   "source": [
    "## Preparation"
   ]
  },
  {
   "cell_type": "code",
   "execution_count": null,
   "metadata": {},
   "outputs": [],
   "source": [
    "import os,sys\n",
    "import pandas as pd\n",
    "import numpy as np\n",
    "import scanpy as sc\n",
    "import matplotlib.pyplot as plt\n",
    "import matplotlib.colors as clr\n",
    "import warnings\n",
    "import RGAST\n",
    "from RGAST import svg\n",
    "warnings.filterwarnings(\"ignore\")\n",
    "color_self = clr.LinearSegmentedColormap.from_list('pink_green', ['#3AB370',\"#EAE7CC\",\"#FD1593\"], N=256)"
   ]
  },
  {
   "attachments": {},
   "cell_type": "markdown",
   "metadata": {},
   "source": [
    "## Read data"
   ]
  },
  {
   "cell_type": "code",
   "execution_count": 2,
   "metadata": {},
   "outputs": [],
   "source": [
    "dir_input = f'../data/seqFISH/cortex_seqFISH.h5ad'\n",
    "dir_output = f'./output/SVG'\n",
    "if not os.path.exists(dir_output):\n",
    "    os.makedirs(dir_output)\n",
    "adata = sc.read_h5ad(dir_input)"
   ]
  },
  {
   "attachments": {},
   "cell_type": "markdown",
   "metadata": {},
   "source": [
    "## Preprocessing"
   ]
  },
  {
   "cell_type": "code",
   "execution_count": 3,
   "metadata": {},
   "outputs": [],
   "source": [
    "adata.var_names_make_unique()\n",
    "adata.raw = adata.copy()\n",
    "sc.pp.normalize_total(adata, target_sum=1e4)\n",
    "sc.pp.log1p(adata)"
   ]
  },
  {
   "attachments": {},
   "cell_type": "markdown",
   "metadata": {},
   "source": [
    "## Model training"
   ]
  },
  {
   "cell_type": "code",
   "execution_count": null,
   "metadata": {},
   "outputs": [],
   "source": [
    "RGAST.Cal_Spatial_Net(adata, rad_cutoff=80, model='Radius')\n",
    "RGAST.Cal_Expression_Net(adata)\n",
    "#train\n",
    "train_RGAST = RGAST.Train_RGAST(adata, spatial_net_arg={'rad_cutoff':80, 'model':'Radius'})\n",
    "train_RGAST.train_RGAST(save_path=dir_output)"
   ]
  },
  {
   "attachments": {},
   "cell_type": "markdown",
   "metadata": {},
   "source": [
    "### Can also load the model parameter we trained in our study"
   ]
  },
  {
   "cell_type": "code",
   "execution_count": null,
   "metadata": {},
   "outputs": [],
   "source": [
    "train_RGAST.load_model('../model_path/cortex_seqfish.pth')\n",
    "z, _ = train_RGAST.process()\n",
    "adata.obsm['RGAST'] =  z.to('cpu').detach().numpy()"
   ]
  },
  {
   "attachments": {},
   "cell_type": "markdown",
   "metadata": {},
   "source": [
    "## Clustering"
   ]
  },
  {
   "cell_type": "code",
   "execution_count": 4,
   "metadata": {},
   "outputs": [],
   "source": [
    "import RGAST.utils.res_search_fixed_clus as res_search_fixed_clus\n",
    "sc.pp.neighbors(adata, use_rep='RGAST')\n",
    "sc.tl.umap(adata)\n",
    "_ = res_search_fixed_clus(adata, 7)\n",
    "adata.obs.rename(column={'leiden':'RGAST'})"
   ]
  },
  {
   "attachments": {},
   "cell_type": "markdown",
   "metadata": {},
   "source": [
    "## SVG detection pipeline"
   ]
  },
  {
   "cell_type": "code",
   "execution_count": 7,
   "metadata": {},
   "outputs": [],
   "source": [
    "#Set filtering criterials\n",
    "min_in_group_fraction=0.8\n",
    "min_in_out_group_ratio=1\n",
    "min_fold_change=1.5\n",
    "\n",
    "#Search radius such that each spot in the target domain has approximately 10 neighbors on average\n",
    "x_array=adata.obs[\"X\"].tolist()\n",
    "y_array=adata.obs[\"Y\"].tolist()\n",
    "adj_2d=svg.calculate_adj_matrix(x=x_array, y=y_array)\n",
    "start, end= np.quantile(adj_2d[adj_2d!=0],q=0.001), np.quantile(adj_2d[adj_2d!=0],q=0.1)"
   ]
  },
  {
   "cell_type": "code",
   "execution_count": 8,
   "metadata": {},
   "outputs": [],
   "source": [
    "df = pd.DataFrame(adata.raw.X, index=adata.obs_names, columns=adata.raw.var_names)\n",
    "I = svg.Moran_I(df, x=x_array, y=y_array)\n",
    "C = svg.Geary_C(df, x=x_array, y=y_array)"
   ]
  },
  {
   "cell_type": "code",
   "execution_count": null,
   "metadata": {},
   "outputs": [],
   "source": [
    "svgene = []\n",
    "\n",
    "for target in adata.obs['RGAST'].value_counts().index.to_list():\n",
    "\n",
    "    r=svg.search_radius(target_cluster=target, cell_id=adata.obs.index.tolist(), x=x_array, y=y_array, pred=adata.obs['RGAST'].tolist(),\n",
    "                        adj_2d=adj_2d, start=start, end=end, num_min=10, num_max=14,  max_run=100)\n",
    "    #Detect neighboring domains\n",
    "    nbr_domians=svg.find_neighbor_clusters(target_cluster=target,\n",
    "                                    cell_id=adata.obs.index.tolist(), \n",
    "                                    x=x_array, \n",
    "                                    y=y_array, \n",
    "                                    pred=adata.obs['RGAST'].tolist(),\n",
    "                                    radius=r,\n",
    "                                    ratio=0.5)\n",
    "    if nbr_domians is None:\n",
    "        print('skip to next domain')\n",
    "        continue\n",
    "    if len(nbr_domians) > 3:\n",
    "        nbr_domians=nbr_domians[0:3]\n",
    "    de_genes_info=svg.rank_genes_groups(input_adata=adata,\n",
    "                                    target_cluster=target,\n",
    "                                    nbr_list=nbr_domians, \n",
    "                                    label_col='RGAST',\n",
    "                                    adj_nbr=True, \n",
    "                                    log=True)\n",
    "\n",
    "    #Filter genes\n",
    "    de_genes_info=de_genes_info[(de_genes_info[\"pvals_adj\"]<0.05)]\n",
    "    filtered_info=de_genes_info\n",
    "    filtered_info=filtered_info[(filtered_info[\"pvals_adj\"]<0.05) &\n",
    "                                (filtered_info[\"in_out_group_ratio\"]>min_in_out_group_ratio) &\n",
    "                                (filtered_info[\"in_group_fraction\"]>min_in_group_fraction) &\n",
    "                                (filtered_info[\"fold_change\"]>min_fold_change)]\n",
    "    filtered_info=filtered_info.sort_values(by=\"in_group_fraction\", ascending=False)\n",
    "    filtered_info[\"target_dmain\"]=target\n",
    "    filtered_info[\"neighbors\"]=str(nbr_domians)\n",
    "    print(\"SVGs for domain \", str(target),\":\", filtered_info[\"genes\"].tolist())\n",
    "    svgene = svgene + filtered_info[\"genes\"].tolist()\n",
    "\n",
    "    for g in filtered_info[\"genes\"].tolist():\n",
    "        plt.rcParams[\"figure.figsize\"] = (5, 5)\n",
    "        ax = sc.pl.scatter(adata,alpha=1,x=\"X\",y=\"Y\",color=g, color_map=color_self, title=g,show=False,size=100000/adata.shape[0])\n",
    "        ax.axis('off')\n",
    "        indices = np.where(adata.obs['RGAST']==target)\n",
    "        ax.scatter(adata.obs[\"X\"].iloc[indices], adata.obs[\"Y\"].iloc[indices], marker='o',facecolors='red', alpha=0.02)\n",
    "        ax.set_aspect('equal', 'box')\n",
    "        ax.axes.invert_yaxis()\n",
    "        plt.savefig(f'{dir_output}/domain'+str(target)+'-'+str(g)+'.pdf', bbox_inches='tight')"
   ]
  }
 ],
 "metadata": {
  "kernelspec": {
   "display_name": "Python 3.10.11 ('torch_env')",
   "language": "python",
   "name": "python3"
  },
  "language_info": {
   "codemirror_mode": {
    "name": "ipython",
    "version": 3
   },
   "file_extension": ".py",
   "mimetype": "text/x-python",
   "name": "python",
   "nbconvert_exporter": "python",
   "pygments_lexer": "ipython3",
   "version": "3.10.11"
  },
  "orig_nbformat": 4,
  "vscode": {
   "interpreter": {
    "hash": "5ab6526232d895dd4c89935ed159cd3a949e0c8b9ec97f3a1eaef16737fbb036"
   }
  }
 },
 "nbformat": 4,
 "nbformat_minor": 2
}
