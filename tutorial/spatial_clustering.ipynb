{
 "cells": [
  {
   "attachments": {},
   "cell_type": "markdown",
   "metadata": {},
   "source": [
    "# Tutorial: Spatial clustering on 10x Visium (DLPFC dataset)"
   ]
  },
  {
   "attachments": {},
   "cell_type": "markdown",
   "metadata": {},
   "source": [
    "Here we present our re-analysis of 151675 sample of the dorsolateral prefrontal cortex (DLPFC) dataset. Maynard et al. has manually annotated DLPFC layers and white matter (WM) based on the morphological features and gene markers.\n",
    "\n",
    "This tutorial demonstrates how to identify spatial domains on 10x Visium data using RGAST.\n",
    "\n",
    "DLPFC data can be downloaded from [SpatialLIBD](https://github.com/LieberInstitute/HumanPilot/). Extract and put data within data/DLPFC folder.\n",
    "Please notice that the scale_factors_json.json and tissue_positions_list.csv can be found in 10X folder in SpatialLIBD.\n",
    "For convenient, we have put three files within data folder here. You are recommended to make your folder structure like this:"
   ]
  },
  {
   "cell_type": "code",
   "execution_count": null,
   "metadata": {},
   "outputs": [],
   "source": [
    "RGAST\n",
    " ├── data\n",
    "   └── DLPFC\n",
    "        └── 151507\n",
    "              ├── filtered_feature_bc_matrix.h5\n",
    "              ├── metadata.tsv \n",
    "              └── spatial\n",
    "                     ├── scalefactors_json.json  \n",
    "                     ├── tissue_positions_list.csv  \n",
    "                     ├── full_image.tif  \n",
    "                     ├── tissue_hires_image.png  \n",
    "                     └── tissue_lowres_image.png  "
   ]
  },
  {
   "attachments": {},
   "cell_type": "markdown",
   "metadata": {},
   "source": [
    "## Preparation"
   ]
  },
  {
   "cell_type": "code",
   "execution_count": 2,
   "metadata": {},
   "outputs": [],
   "source": [
    "import os,sys\n",
    "import pandas as pd\n",
    "import numpy as np\n",
    "import scanpy as sc\n",
    "import matplotlib.pyplot as plt\n",
    "import warnings\n",
    "import RGAST\n",
    "warnings.filterwarnings(\"ignore\")\n",
    "from sklearn.metrics.cluster import adjusted_rand_score"
   ]
  },
  {
   "attachments": {},
   "cell_type": "markdown",
   "metadata": {},
   "source": [
    "## read data"
   ]
  },
  {
   "cell_type": "code",
   "execution_count": 3,
   "metadata": {},
   "outputs": [],
   "source": [
    "adata = sc.read_visium(path='../data/DLPFC/151675', count_file='filtered_feature_bc_matrix.h5')\n",
    "adata.var_names_make_unique()"
   ]
  },
  {
   "attachments": {},
   "cell_type": "markdown",
   "metadata": {},
   "source": [
    "### read metadata"
   ]
  },
  {
   "cell_type": "code",
   "execution_count": null,
   "metadata": {},
   "outputs": [],
   "source": [
    "df_meta = pd.read_csv(f'../data/DLPFC/151673/metadata.tsv', sep='\\t')\n",
    "adata.obs = adata.obs.join(df_meta)"
   ]
  },
  {
   "attachments": {},
   "cell_type": "markdown",
   "metadata": {},
   "source": [
    "## preprocessing"
   ]
  },
  {
   "cell_type": "code",
   "execution_count": 4,
   "metadata": {},
   "outputs": [],
   "source": [
    "#preprocess\n",
    "sc.pp.filter_genes(adata, min_cells=5)\n",
    "sc.pp.normalize_total(adata, target_sum=1, exclude_highly_expressed=True)\n",
    "sc.pp.scale(adata)\n",
    "sc.pp.pca(adata, n_comps=200)"
   ]
  },
  {
   "attachments": {},
   "cell_type": "markdown",
   "metadata": {},
   "source": [
    "## Constructing gene expression similarity and spatial neighborhood relationships"
   ]
  },
  {
   "cell_type": "code",
   "execution_count": null,
   "metadata": {},
   "outputs": [],
   "source": [
    "RGAST.Cal_Spatial_Net(adata)\n",
    "RGAST.Cal_Expression_Net(adata)"
   ]
  },
  {
   "attachments": {},
   "cell_type": "markdown",
   "metadata": {},
   "source": [
    "## Model traininig"
   ]
  },
  {
   "cell_type": "code",
   "execution_count": null,
   "metadata": {},
   "outputs": [],
   "source": [
    "train_RGAST = RGAST.Train_RGAST(adata)\n",
    "# with early stopping\n",
    "# train_RGAST.train_RGAST(label_key=\"layer_guess\",save_path=dir_output,n_clusters=n_clusters)\n",
    "# without early stopping\n",
    "train_RGAST.train_RGAST(early_stopping=False, save_path='.', n_epochs=500)\n",
    "train_RGAST.train_with_dec() #optional"
   ]
  },
  {
   "attachments": {},
   "cell_type": "markdown",
   "metadata": {},
   "source": [
    "### you can also use the model parameter we have trained in the study"
   ]
  },
  {
   "cell_type": "code",
   "execution_count": null,
   "metadata": {},
   "outputs": [],
   "source": [
    "train_RGAST.load_model(path='../model_path/DLPFC_151675.pth')\n",
    "z, _ = train_RGAST.process()\n",
    "adata.obsm['RGAST'] =  z.to('cpu').detach().numpy()"
   ]
  },
  {
   "attachments": {},
   "cell_type": "markdown",
   "metadata": {},
   "source": [
    "##  Clustering"
   ]
  },
  {
   "cell_type": "code",
   "execution_count": 14,
   "metadata": {},
   "outputs": [],
   "source": [
    "import RGAST.utils.res_search_fixed_clus as res_search_fixed_clus\n",
    "n_clusters = 7\n",
    "sc.pp.neighbors(adata, use_rep='RGAST')\n",
    "sc.tl.umap(adata)\n",
    "_ = res_search_fixed_clus(adata, n_clusters)"
   ]
  },
  {
   "cell_type": "code",
   "execution_count": 15,
   "metadata": {},
   "outputs": [],
   "source": [
    "adata.obs['refine'] = RGAST.refine_spatial_cluster(adata,adata.obs['leiden']) #optional\n",
    "RGAST.plot_clustering(adata, \"refine\",title='151675')"
   ]
  },
  {
   "attachments": {},
   "cell_type": "markdown",
   "metadata": {},
   "source": [
    "## Evaluation"
   ]
  },
  {
   "cell_type": "code",
   "execution_count": null,
   "metadata": {},
   "outputs": [],
   "source": [
    "obs_df = adata.obs.dropna(subset='layer_guess')\n",
    "ARI = adjusted_rand_score(obs_df['leiden'], obs_df['layer_guess'])\n",
    "print('Adjusted rand index = %.2f' %ARI)"
   ]
  }
 ],
 "metadata": {
  "kernelspec": {
   "display_name": "Python 3.10.11 ('torch_env')",
   "language": "python",
   "name": "python3"
  },
  "language_info": {
   "codemirror_mode": {
    "name": "ipython",
    "version": 3
   },
   "file_extension": ".py",
   "mimetype": "text/x-python",
   "name": "python",
   "nbconvert_exporter": "python",
   "pygments_lexer": "ipython3",
   "version": "3.10.11"
  },
  "vscode": {
   "interpreter": {
    "hash": "5ab6526232d895dd4c89935ed159cd3a949e0c8b9ec97f3a1eaef16737fbb036"
   }
  }
 },
 "nbformat": 4,
 "nbformat_minor": 4
}
